{
 "cells": [
  {
   "cell_type": "code",
   "execution_count": 2,
   "id": "5850b985",
   "metadata": {},
   "outputs": [],
   "source": [
    "import numpy as np\n",
    "import pandas as pd\n",
    "import matplotlib.pyplot as plt\n",
    "import matplotlib.cm as cm\n",
    "import os, re\n",
    "import pickle\n",
    "from utils.imcwrangler import *\n",
    "%matplotlib inline\n",
    "\n",
    "%load_ext autoreload\n",
    "%autoreload 2\n",
    "\n",
    "DIR = '/home/jerrywang'"
   ]
  },
  {
   "cell_type": "code",
   "execution_count": 7,
   "id": "30bb3f34",
   "metadata": {},
   "outputs": [
    {
     "ename": "",
     "evalue": "",
     "output_type": "error",
     "traceback": [
      "\u001b[1;31mThe Kernel crashed while executing code in the the current cell or a previous cell. Please review the code in the cell(s) to identify a possible cause of the failure. Click <a href='https://aka.ms/vscodeJupyterKernelCrash'>here</a> for more info. View Jupyter <a href='command:jupyter.viewOutput'>log</a> for further details."
     ]
    }
   ],
   "source": [
    "DATASET = 'danenbergBreast'\n",
    "save_dir = f'{DIR}/IMC/output'\n",
    "\n",
    "if DATASET == 'danenbergBreast':\n",
    "       df_orig = pd.read_csv(f'{DIR}/geneticbreast/MBTMEIMCPublic/SingleCells.csv')\n",
    "       markerorder = pd.read_csv(f'{DIR}/geneticbreast/MBTMEIMCPublic/markerStackOrder.csv')\n",
    "       genename = [gene if gene != 'c-Caspase3c-PARP' else 'c-Caspase3' for gene in markerorder['Epitope'].to_list()]\n",
    "       df_orig = df_orig[df_orig['is_tumour'] == 1]\n",
    "       df_orig.rename(columns = {'cellPhenotype':'celltype_rf'}, inplace = True)\n",
    "       df_orig.loc[df_orig['celltype_rf'] == 'CD8^{+} T cells', 'celltype_rf'] = 'Tcytotoxic'\n",
    "       tumor_cell = ['Basal', 'CD15^{+}','CK8-18^{+} ER^{hi}', 'CK8-18^{hi}CXCL12^{hi}',\n",
    "              'CK8-18^{hi}ER^{lo}', 'CK^{+} CXCL12^{+}', 'CK^{lo}ER^{lo}',\n",
    "              'CK^{lo}ER^{med}', 'CK^{med}ER^{lo}', 'ER^{hi}CXCL12^{+}',\n",
    "              'Ep CD57^{+}', 'Ep Ki67^{+}', 'HER2^{+}','MHC I & II^{hi}', 'MHC I^{hi}CD57^{+}', 'MHC^{hi}CD15^{+}',]\n",
    "       # rename all tumor subclasses to tumor cell\n",
    "       df_orig.loc[df_orig['celltype_rf'].isin(tumor_cell), 'celltype_rf'] = 'Tumor'\n",
    "       clean_df = df_orig[['ImageNumber','ObjectNumber', 'Location_Center_X', 'Location_Center_Y'] + genename + ['celltype_rf']]\n",
    "       pat_df = df_orig[['metabric_id','ImageNumber']].drop_duplicates(ignore_index=True)\n",
    "       pat_df.rename(columns = {'metabric_id':'PatientID'}, inplace = True)\n",
    "       \n",
    "       if not os.path.isfile(f'{save_dir}/{DATASET}_patient.csv'):\n",
    "              pat_df.to_csv(f'{save_dir}/{DATASET}_patient.csv')\n",
    "\n",
    "elif DATASET == 'cedarsLiver':\n",
    "       singlecell = pd.read_csv(f'{DIR}/{DATASET}/liver_newdata.csv', index_col=False)\n",
    "       genename = ['CD45','Glnsynthetase', 'CD163', 'NKG2D', 'CCR4', 'PDL1', 'FAP', 'CD11c',\n",
    "                   'LAG3', 'HepPar1', 'FOXP3', 'aSMA', 'CD4', 'CD105endoglin', 'CD68',\n",
    "                   'VISTA', 'CD20', 'CD8a', 'TIM3', 'CXCR4', 'PD1', 'iNOS', 'CD31',\n",
    "                   'CYR61', 'CDX2', 'CAIX', 'CD3', 'CD44', 'CD15', 'CD11b', 'HLADR',\n",
    "                   'IL10', 'CXCL12', 'HLAABC', 'DNA1', 'DNA2', 'GranzymeB', 'Ki67',\n",
    "                   'HistoneH3', 'CXCR3', 'Galectin9', 'YAP', 'CD14', 'CK19']\n",
    "       column_mapping = {'sample':'PatientID', 'broad_type':'celltype_rf',}\n",
    "       clean_df = singlecell.rename(columns=column_mapping)\n",
    "       clean_df.loc[clean_df['liver_pos'], 'celltype_rf'] = 'Liver'\n",
    "       clean_df.loc[clean_df['tumor_pos'], 'celltype_rf'] = 'Tumor'\n",
    "       clean_df.loc[clean_df['Mac_pos'], 'celltype_rf'] = 'Macrophage'\n",
    "       clean_df.loc[clean_df['Tcell_pos'], 'celltype_rf'] = 'Tcell'\n",
    "       clean_df.loc[clean_df['CD8_pos'], 'celltype_rf'] = 'Tcytotoxic'\n",
    "       clean_df.loc[clean_df['M1_pos'], 'celltype_rf'] = 'M1'\n",
    "       clean_df.loc[clean_df['NK_pos'], 'celltype_rf'] = 'NK cells'\n",
    "       clean_df.loc[clean_df['Treg_pos'], 'celltype_rf'] = 'Tregs'\n",
    "       clean_df.loc[clean_df['MDSC_pos'], 'celltype_rf'] = 'MDSC'\n",
    "       clean_df.loc[clean_df['DC_pos'], 'celltype_rf'] = 'DC'\n",
    "       clean_df.loc[clean_df['B_pos'], 'celltype_rf'] = 'B cells'\n",
    "       clean_df.loc[clean_df['M2_pos'], 'celltype_rf'] = 'M2'\n",
    "       clean_df.loc[clean_df['CD4_pos'], 'celltype_rf'] = 'CD4'\n",
    "       \n",
    "       clean_df = clean_df[['ImageNumber',] + list(column_mapping.values()) + \n",
    "                           ['Location_Center_X', 'Location_Center_Y'] + genename ]\n",
    "       pat_df = clean_df[['PatientID','ImageNumber']].drop_duplicates(ignore_index=True)\n",
    "       if not os.path.isfile(f'{save_dir}/{DATASET}_patient.csv'):\n",
    "              pat_df.to_csv(f'{save_dir}/{DATASET}_patient.csv')\n",
    "\n",
    "elif DATASET == 'crcSchurch':\n",
    "       # groups = 1 is CLR, groups = 2 is DII\n",
    "       # Get cell masks stored in tiff files\n",
    "       datapath = f'{DIR}/{DATASET}/CRC_clusters_neighborhoods_markers.csv'\n",
    "       singlecell = pd.read_csv(datapath)\n",
    "       column_mapping = {'ROI_ID':'ImageNumber', 'Region':'ImageNumber',  'patients':'PatientID', \n",
    "                         'X:X':'Location_Center_X','Y:Y':'Location_Center_Y','ClusterName':'celltype_rf',}\n",
    "       \n",
    "       # remove MMP9 and CD30 from the analysis (don't actually have any intensity in raw image)\n",
    "       channelnames = ['CD44 - stroma:Cyc_2_ch_2', 'FOXP3 - regulatory T cells:Cyc_2_ch_3',\n",
    "              'CD8 - cytotoxic T cells:Cyc_3_ch_2',\n",
    "              'p53 - tumor suppressor:Cyc_3_ch_3',\n",
    "              'GATA3 - Th2 helper T cells:Cyc_3_ch_4',\n",
    "              'CD45 - hematopoietic cells:Cyc_4_ch_2', 'T-bet - Th1 cells:Cyc_4_ch_3',\n",
    "              'beta-catenin - Wnt signaling:Cyc_4_ch_4', 'HLA-DR - MHC-II:Cyc_5_ch_2',\n",
    "              'PD-L1 - checkpoint:Cyc_5_ch_3', 'Ki67 - proliferation:Cyc_5_ch_4',\n",
    "              'CD45RA - naive T cells:Cyc_6_ch_2', 'CD4 - T helper cells:Cyc_6_ch_3',\n",
    "              'CD21 - DCs:Cyc_6_ch_4', 'MUC-1 - epithelia:Cyc_7_ch_2','CD2 - T cells:Cyc_7_ch_4',\n",
    "              'Vimentin - cytoplasm:Cyc_8_ch_2', 'CD20 - B cells:Cyc_8_ch_3',\n",
    "              'LAG-3 - checkpoint:Cyc_8_ch_4', 'Na-K-ATPase - membranes:Cyc_9_ch_2',\n",
    "              'CD5 - T cells:Cyc_9_ch_3', 'IDO-1 - metabolism:Cyc_9_ch_4',\n",
    "              'Cytokeratin - epithelia:Cyc_10_ch_2',\n",
    "              'CD11b - macrophages:Cyc_10_ch_3', 'CD56 - NK cells:Cyc_10_ch_4',\n",
    "              'aSMA - smooth muscle:Cyc_11_ch_2', 'BCL-2 - apoptosis:Cyc_11_ch_3',\n",
    "              'CD25 - IL-2 Ra:Cyc_11_ch_4', 'CD11c - DCs:Cyc_12_ch_3',\n",
    "              'PD-1 - checkpoint:Cyc_12_ch_4',\n",
    "              'Granzyme B - cytotoxicity:Cyc_13_ch_2', 'EGFR - signaling:Cyc_13_ch_3',\n",
    "              'VISTA - costimulator:Cyc_13_ch_4', 'CD15 - granulocytes:Cyc_14_ch_2',\n",
    "              'ICOS - costimulator:Cyc_14_ch_4',\n",
    "              'Synaptophysin - neuroendocrine:Cyc_15_ch_3',\n",
    "              'GFAP - nerves:Cyc_16_ch_2', 'CD7 - T cells:Cyc_16_ch_3',\n",
    "              'CD3 - T cells:Cyc_16_ch_4',\n",
    "              'Chromogranin A - neuroendocrine:Cyc_17_ch_2',\n",
    "              'CD163 - macrophages:Cyc_17_ch_3', 'CD45RO - memory cells:Cyc_18_ch_3',\n",
    "              'CD68 - macrophages:Cyc_18_ch_4', 'CD31 - vasculature:Cyc_19_ch_3',\n",
    "              'Podoplanin - lymphatics:Cyc_19_ch_4', 'CD34 - vasculature:Cyc_20_ch_3',\n",
    "              'CD38 - multifunctional:Cyc_20_ch_4',\n",
    "              'CD138 - plasma cells:Cyc_21_ch_3', 'HOECHST1:Cyc_1_ch_1',\n",
    "              'CDX2 - intestinal epithelia:Cyc_2_ch_4',\n",
    "              'Collagen IV - bas. memb.:Cyc_12_ch_2',\n",
    "              'CD194 - CCR4 chemokine R:Cyc_14_ch_3',\n",
    "              'MMP9 - matrix metalloproteinase:Cyc_15_ch_2',\n",
    "              'CD71 - transferrin R:Cyc_15_ch_4', 'CD57 - NK cells:Cyc_17_ch_4', 'DRAQ5:Cyc_23_ch_4']\n",
    "       gene_mapping = {channel:channel.split(\":\")[0].split(\" - \")[0] for channel in channelnames}\n",
    "       genename = list(gene_mapping.values())\n",
    "       column_mapping.update(gene_mapping)\n",
    "       clean_df = singlecell.rename(columns=column_mapping)\n",
    "       clean_df = clean_df[list(column_mapping.values())]\n",
    "       clean_df.loc[clean_df['celltype_rf']=='tumor cells', 'celltype_rf'] = 'Tumor'\n",
    "       clean_df.loc[clean_df['celltype_rf']=='CD8+ T cells', 'celltype_rf'] = 'Tcytotoxic'\n",
    "       # converting region number to unique image numbers based on TMA_12 == 1 or 2\n",
    "       mapping_dict = {label:int((re.search(r\"reg(\\d+)\", label)).group(1)) for label in np.unique(clean_df['ImageNumber'])}\n",
    "       clean_df['ImageNumber'] = clean_df['ImageNumber'].map(mapping_dict)\n",
    "       clean_df['ImageNumber'] = clean_df['ImageNumber'] + (singlecell['TMA_12']-1)*np.max(clean_df['ImageNumber'])\n",
    "       # converting XY position units from pixel (0.377um/pixel) to micron\n",
    "       clean_df['Location_Center_X'] = clean_df['Location_Center_X']*0.377\n",
    "       clean_df['Location_Center_Y'] = clean_df['Location_Center_Y']*0.377\n",
    "\n",
    "       pat_df = clean_df[['PatientID','ImageNumber']].drop_duplicates(ignore_index=True)\n",
    "       if not os.path.isfile(f'{save_dir}/{DATASET}_patient.csv'):\n",
    "              pat_df.to_csv(f'{save_dir}/{DATASET}_patient.csv')\n",
    "\n",
    "elif DATASET == 'hochMelanoma':\n",
    "       df_orig = pd.read_csv(DIR + '/data_for_analysis_zenodo/rna/cell.csv')\n",
    "\n",
    "       # Keeping only necessary columns\n",
    "       columns_to_keep = ['ImageNumber','ObjectNumber', 'Location_Center_X', 'Location_Center_Y']\n",
    "       intensity_columns = [names for names in df_orig.columns if \"MeanIntensityCorrected_FullStackFiltered\" in names]\n",
    "       columns_to_keep = columns_to_keep + intensity_columns\n",
    "       RNA_df = df_orig[columns_to_keep]\n",
    "\n",
    "       # Label channels using gene name instead of numbers\n",
    "       genename = [\"Vimentin\",\"CD163\",\"B2M\",\"CD134\",\"CD68\",\"GLUT1\",\"CD3\",\"Lag3\",\"PD1\",\"CCL4_mRNA\",\"CCL18_mRNA\",\n",
    "              \"HistoneH3\",\"CCR2\",\"PDL1\",\"CXCL8_mRNA\",\"CXCL10_mRNA\",\"CXCL12_mRNA\",\"CXCL13_mRNA\",\"CD8\",\"CCL2_mRNA\",\n",
    "              \"CCL22_mRNA\",\"CXCL9_mRNA\",\"SMA\",\"DapB_mRNA\",\"SOX10\",\"CCL8_mRNA\",\"CD31\",\"CCL19_mRNA\",\"Mart1\",\"pRB\",\n",
    "              \"cleavedPARP\",\"DNA1\",\"DNA2\",\"CK5\",\"CD15\",\"MPO\",\"CD38\",\"HLADR\",\"S100\",\"Cadherin11\",\"FAP\"]\n",
    "       RNA_df = RNA_df.rename(columns=dict(zip(intensity_columns,genename)))\n",
    "\n",
    "       # Adding celltype information from a different csv file\n",
    "       columns_to_add = ['celltype','celltype_rf']\n",
    "       RNA_celltype = pd.read_csv(DIR + '/data_for_analysis_zenodo/rna/celltype_RNA.csv')\n",
    "       clean_df = pd.concat([RNA_df, RNA_celltype[columns_to_add]],axis=1)\n",
    "       # load image metadata as output from CellProfiler\n",
    "       image_mat = pd.read_csv(DIR + \"/data_for_analysis_zenodo/rna/Image.csv\")\n",
    "       scaling = image_mat['Scaling_FullStack'][1]\n",
    "       print(scaling)"
   ]
  },
  {
   "cell_type": "code",
   "execution_count": null,
   "id": "926b7a8e",
   "metadata": {},
   "outputs": [
    {
     "data": {
      "text/plain": [
       "1.0"
      ]
     },
     "execution_count": 6,
     "metadata": {},
     "output_type": "execute_result"
    }
   ],
   "source": [
    "print(clean_df['Location_Center_X'].min())\n",
    "print(clean_df['Location_Center_Y'].min())"
   ]
  },
  {
   "cell_type": "code",
   "execution_count": null,
   "id": "f49b3aaa",
   "metadata": {},
   "outputs": [],
   "source": [
    "# sub = clean_df[['ImageNumber','Location_Center_X', 'Location_Center_Y','celltype_rf']]\n",
    "# sub = sub.rename(columns={'Location_Center_X': 'x', 'Location_Center_Y': 'y', 'celltype_rf': 'label'})\n",
    "# sub.to_csv('danenbergBreast_cells.csv', index=False)"
   ]
  },
  {
   "cell_type": "code",
   "execution_count": null,
   "id": "d93d7d78",
   "metadata": {},
   "outputs": [],
   "source": [
    "from sklearn.preprocessing import StandardScaler\n",
    "df = clean_df[genename]\n",
    "# create a StandardScaler object\n",
    "scaler = StandardScaler()\n",
    "# fit and transform the data\n",
    "df_normalized = pd.DataFrame(scaler.fit_transform(df), columns=df.columns)\n",
    "\n",
    "fano = clean_df[list(genename)].std()/clean_df[list(genename)].mean()\n",
    "plt.figure(figsize=(20,8))\n",
    "plt.bar(range(len(fano)), fano)\n",
    "plt.xticks(range(len(fano)),fano.index, rotation=80, fontsize=12)\n",
    "plt.axhline(y=1, color='r')\n",
    "plt.show()"
   ]
  },
  {
   "attachments": {},
   "cell_type": "markdown",
   "id": "d70d4231",
   "metadata": {},
   "source": [
    "### Gene expression by cell type"
   ]
  },
  {
   "cell_type": "code",
   "execution_count": null,
   "id": "06e3b0ab",
   "metadata": {},
   "outputs": [],
   "source": [
    "unwanted_num = []\n",
    "x = clean_df.sort_values(by=['celltype_rf'])[[ele for ele in genename if ele not in unwanted_num]]\n",
    "normalized_x = x.div(x.sum(axis=1), axis=0)\n",
    "normalized_x['celltype_rf'] = clean_df['celltype_rf']\n",
    "normalized_x = normalized_x.sort_values(by=['celltype_rf']).groupby(['celltype_rf']).mean()\n",
    "\n",
    "import seaborn as sns\n",
    "import matplotlib.colors as colors\n",
    "\n",
    "ax=sns.clustermap(normalized_x,z_score=1,\n",
    "                  row_cluster=False,\n",
    "                  cmap=\"vlag\", vmin=-3, vmax=3, figsize=(20,10),\n",
    "                  yticklabels=normalized_x.index, xticklabels=normalized_x.columns)\n",
    "plt.setp(ax.ax_heatmap.get_xticklabels(), rotation=80)\n",
    "plt.rc('xtick') \n",
    "plt.ylabel('Normalized levels')\n",
    "plt.show()"
   ]
  },
  {
   "attachments": {},
   "cell_type": "markdown",
   "id": "b9b97744",
   "metadata": {},
   "source": [
    "### Generating dataset"
   ]
  },
  {
   "cell_type": "code",
   "execution_count": null,
   "id": "b5d53127",
   "metadata": {},
   "outputs": [],
   "source": [
    "clean_df"
   ]
  },
  {
   "cell_type": "code",
   "execution_count": null,
   "id": "97882090",
   "metadata": {},
   "outputs": [],
   "source": [
    "patch_sz = 48\n",
    "pixel_dim = 3\n",
    "width = int(patch_sz/pixel_dim)\n",
    "height = int(patch_sz/pixel_dim)\n",
    "df = image_to_patch(clean_df, (patch_sz,patch_sz))\n",
    "df2 = patch_to_pixel(df, width=width, height=height, pixel_dim=(pixel_dim,pixel_dim))\n",
    "df2[['x0','y0']] = df[['x0','y0']]"
   ]
  },
  {
   "cell_type": "code",
   "execution_count": null,
   "id": "7debf216",
   "metadata": {},
   "outputs": [],
   "source": [
    "tcount_per_patch = df2.groupby('ImageNumber').apply(lambda x: (x['celltype_rf'] == 'Tcytotoxic').sum()).reset_index(name='counts')"
   ]
  },
  {
   "cell_type": "code",
   "execution_count": null,
   "id": "111cce49",
   "metadata": {},
   "outputs": [],
   "source": [
    "unique, counts = np.unique(tcount_per_patch['counts'].values, return_counts=True)"
   ]
  },
  {
   "cell_type": "code",
   "execution_count": null,
   "id": "504762d0",
   "metadata": {},
   "outputs": [],
   "source": [
    "# Print the unique values and their counts\n",
    "for u, c in zip(unique, counts/np.sum(counts)*100):\n",
    "    print(f\"{u}: {c}\")"
   ]
  },
  {
   "cell_type": "code",
   "execution_count": null,
   "id": "94e5db69",
   "metadata": {},
   "outputs": [],
   "source": [
    "# remove marker channels\n",
    "channel_to_remove=[]\n",
    "genes_to_keep = [i for i in genename if i not in channel_to_remove]"
   ]
  },
  {
   "cell_type": "code",
   "execution_count": null,
   "id": "4334516b",
   "metadata": {},
   "outputs": [],
   "source": [
    "# further remove all signals from T cells\n",
    "celltype = 'Tcytotoxic'\n",
    "df2.loc[df2['celltype_rf']==celltype, genes_to_keep] = 0\n",
    "\n",
    "# extract coordinate of each patch\n",
    "position = get_patch_coord(df2, patch_sz)"
   ]
  },
  {
   "cell_type": "code",
   "execution_count": null,
   "id": "e1f48fae",
   "metadata": {},
   "outputs": [],
   "source": [
    "np.save('position.npy', position)"
   ]
  },
  {
   "cell_type": "code",
   "execution_count": null,
   "id": "c4702538",
   "metadata": {},
   "outputs": [],
   "source": [
    "intensity, label, genes_to_keep, groupedimage = patch_to_matrix(df2, width=width, height=height, \n",
    "                                                                typeName='celltype_rf', \n",
    "                                                                genelist=genename, \n",
    "                                                                celltype=['Tcytotoxic','Tumor'], channel_to_remove=channel_to_remove)\n",
    "intensity = np.swapaxes(np.swapaxes(intensity, 1, 2), 2, 3)\n",
    "label = label.astype(int)\n",
    "\n",
    "# Get back original image number label\n",
    "original_ImageNumber = np.array(groupedimage[['ImageNumber','original_ImageNumber']].drop_duplicates()\\\n",
    "                                ['original_ImageNumber'])\n",
    "orig_imagenum = groupedimage[['ImageNumber','original_ImageNumber']].drop_duplicates()\n",
    "orig_imagenum = orig_imagenum.set_index('ImageNumber')\n",
    "label = pd.concat([orig_imagenum, label], axis=1).reset_index()\n",
    "label['ImageNumber'] = label['original_ImageNumber'].astype(int)\n",
    "label = label.drop(columns=['original_ImageNumber'])"
   ]
  },
  {
   "cell_type": "code",
   "execution_count": null,
   "id": "70f5ec91",
   "metadata": {},
   "outputs": [],
   "source": [
    "label.shape"
   ]
  },
  {
   "cell_type": "code",
   "execution_count": null,
   "id": "8212da03",
   "metadata": {},
   "outputs": [],
   "source": [
    "test = np.max(intensity,axis=3)\n",
    "n_cell_per_patch = np.sum(test>0, axis=(1,2))\n",
    "plt.hist(n_cell_per_patch)\n",
    "plt.xlabel('number of cells per patch')\n",
    "print(f\"median number of cells per patch:{np.median(n_cell_per_patch)}\")"
   ]
  },
  {
   "cell_type": "code",
   "execution_count": null,
   "id": "f386b9d7-d0d0-4b6e-b0ad-ef51dd46db65",
   "metadata": {},
   "outputs": [],
   "source": [
    "nrow = 10\n",
    "ncol = 10\n",
    "samp = np.random.randint(0,np.size(test,axis=0),size=(nrow,ncol))\n",
    "\n",
    "fig, axs = plt.subplots(nrows=nrow, ncols=ncol, figsize=(ncol*2,nrow*2))\n",
    "\n",
    "for ii in range(nrow):\n",
    "    for jj in range(ncol):\n",
    "        for ind in samp:\n",
    "            axs[ii][jj].imshow(test[samp[ii,jj],:,:])"
   ]
  },
  {
   "cell_type": "code",
   "execution_count": null,
   "id": "1781e40e",
   "metadata": {},
   "outputs": [],
   "source": [
    "# check percent of cells merged as a result of discretization\n",
    "print('Percent of cells lost: {:.2f}'.format((len(df2)-np.sum(np.max(intensity,axis=-1)>0))/len(df2) * 100))"
   ]
  },
  {
   "cell_type": "code",
   "execution_count": null,
   "id": "3d9602d9",
   "metadata": {},
   "outputs": [],
   "source": [
    "# Save data\n",
    "data_dir = f'{DATASET}_sz{patch_sz}_pxl{pixel_dim}_nc{len(genes_to_keep)}'\n",
    "if not os.path.exists(f'{save_dir}/{data_dir}'):\n",
    "    os.makedirs(f'{save_dir}/{data_dir}')\n",
    "with open(f'{save_dir}/{data_dir}/patched.dat', 'wb') as f:\n",
    "    pickle.dump((intensity, label, genes_to_keep, position), f, protocol=4)\n",
    "if not os.path.isfile(f'{save_dir}/{data_dir}/singlecell_df.csv'):\n",
    "    # note this df doesn't contain cd8 t cells\n",
    "    df2.to_csv(f'{save_dir}/{data_dir}/singlecell_df.csv')"
   ]
  },
  {
   "attachments": {},
   "cell_type": "markdown",
   "id": "fc3794f6",
   "metadata": {},
   "source": [
    "Plotting cell distribution"
   ]
  },
  {
   "cell_type": "code",
   "execution_count": null,
   "id": "27224359",
   "metadata": {},
   "outputs": [],
   "source": [
    "# subset_df = clean_df[clean_df['celltype_rf'].isin(['Tumor', 'Tcytotoxic'])].copy(deep=True)"
   ]
  },
  {
   "cell_type": "code",
   "execution_count": null,
   "id": "37cb8cd0",
   "metadata": {},
   "outputs": [],
   "source": [
    "%matplotlib inline\n",
    "\n",
    "subset_df = clean_df.copy()\n",
    "ncelltype_rf = len(subset_df['celltype_rf'].unique())\n",
    "cmap = cm.get_cmap('Set1')\n",
    "# color_dict = {'Tumor':'tab:red','Tcytotoxic':'tab:green'}\n",
    "# Passing a number betwen 0-1 into cmap will return a color to me\n",
    "color_dict = {value:cmap(count/ncelltype_rf) for count, value in enumerate(subset_df['celltype_rf'].unique())}\n",
    "color_series = pd.Series(color_dict)\n",
    "\n",
    "# Naming my series so I can merge it below. Only named series can be merged\n",
    "color_series.name = 'color_series'\n",
    "\n",
    "# # Merge your two datasets\n",
    "color_df = pd.merge(subset_df[['ImageNumber','Location_Center_X','Location_Center_Y','celltype_rf']], \n",
    "                  color_series.to_frame(), how='left', left_on='celltype_rf', right_index=True)\n",
    "\n",
    "plt.figure(figsize=(12, 4))\n",
    "plt.scatter(range(ncelltype_rf), np.zeros(ncelltype_rf), \n",
    "            c=np.array([color_dict[key] for key in color_dict]),s=100)\n",
    "for i in range(ncelltype_rf):\n",
    "    plt.text(i, 0.005, list(color_dict)[i], rotation=45, fontsize=12)\n",
    "plt.axis('off')\n",
    "plt.show()\n",
    "\n",
    "high_cell_images = list((color_df['ImageNumber'].value_counts()>500).index[color_df['ImageNumber'].value_counts()>500])\n",
    "\n",
    "plt.figure(figsize=(30, 80))\n",
    "plt.suptitle(\"Breast tumor slices\", fontsize=25, y=0.9)\n",
    "for n, ticker in enumerate(high_cell_images[40:50]):\n",
    "    plt.subplot(10, 4, n+1)\n",
    "    singleimage = color_df.loc[color_df['ImageNumber'] == ticker]\n",
    "    plt.scatter(singleimage['Location_Center_X'],singleimage['Location_Center_Y'],4,c=singleimage['color_series'])\n",
    "plt.savefig('cell_map.png', dpi=300)"
   ]
  },
  {
   "cell_type": "code",
   "execution_count": null,
   "id": "c853a4ef",
   "metadata": {},
   "outputs": [],
   "source": [
    "# data for causal discovery\n",
    "df3 = df2[['original_ImageNumber','ImageNumber','celltype_rf']]\n",
    "df3 = pd.get_dummies(df3, columns=['celltype_rf'], prefix='', prefix_sep='')\n",
    "df3 = df3.groupby('ImageNumber').max().reset_index(drop=True)\n",
    "df3.rename(columns={'original_ImageNumber':'ImageNumber'}, inplace=True)\n",
    "df3[\"PatientID\"] = df3[\"ImageNumber\"].map(dict(zip(pat_df.ImageNumber, pat_df.PatientID)))\n",
    "df3.to_csv('/home/jerrywang/IMC/output/danenbergBreast_cellcount.csv', index=False)"
   ]
  },
  {
   "cell_type": "code",
   "execution_count": null,
   "id": "090fedf2",
   "metadata": {},
   "outputs": [],
   "source": []
  }
 ],
 "metadata": {
  "kernelspec": {
   "display_name": "deepIMC",
   "language": "python",
   "name": "python3"
  },
  "language_info": {
   "codemirror_mode": {
    "name": "ipython",
    "version": 3
   },
   "file_extension": ".py",
   "mimetype": "text/x-python",
   "name": "python",
   "nbconvert_exporter": "python",
   "pygments_lexer": "ipython3",
   "version": "3.7.13"
  }
 },
 "nbformat": 4,
 "nbformat_minor": 5
}
